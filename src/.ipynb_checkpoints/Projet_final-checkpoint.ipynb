{
 "cells": [
  {
   "cell_type": "markdown",
   "id": "9ea02450",
   "metadata": {},
   "source": [
    "# Importation des données et librairies"
   ]
  },
  {
   "cell_type": "code",
   "execution_count": 1,
   "id": "4560e9dd",
   "metadata": {},
   "outputs": [
    {
     "name": "stderr",
     "output_type": "stream",
     "text": [
      "c:\\Users\\yanis\\AppData\\Local\\Programs\\Python\\Python311\\Lib\\site-packages\\tqdm\\auto.py:21: TqdmWarning: IProgress not found. Please update jupyter and ipywidgets. See https://ipywidgets.readthedocs.io/en/stable/user_install.html\n",
      "  from .autonotebook import tqdm as notebook_tqdm\n"
     ]
    }
   ],
   "source": [
    "import data_manager.Loader\n",
    "import data_manager.Preprocessor\n",
    "import data_manager.Data_Augmentation\n",
    "import data_manager.Features_Extraction\n",
    "import analyzer.Analyzer\n",
    "import classifier.Classifier\n",
    "import classifier.LogisticRegressionModel\n",
    "import classifier.SVMModel\n",
    "import classifier.RandomForestModel\n",
    "import classifier.LSTMDenseModel\n",
    "import evaluation.Evaluator\n",
    "\n",
    "import pandas as pd\n",
    "import numpy as np\n",
    "import matplotlib.pyplot as plt\n",
    "\n",
    "from sklearn.model_selection import train_test_split\n",
    "from sklearn.model_selection import KFold\n",
    "from sklearn.ensemble import RandomForestClassifier\n",
    "# import re\n",
    "# import string\n",
    "# from collections import Counter\n",
    "# import seaborn as sns\n",
    "# import random\n",
    "\n",
    "# from sklearn.feature_extraction.text import TfidfVectorizer\n",
    "# from sklearn.preprocessing import LabelEncoder\n",
    "# from sklearn.feature_extraction import DictVectorizer\n",
    "# from sklearn.metrics import accuracy_score, f1_score, precision_score, recall_score, classification_report, confusion_matrix\n",
    "# from sklearn.linear_model import LogisticRegression\n",
    "# from sklearn.svm import LinearSVC\n",
    "# from sklearn.model_selection import train_test_split\n",
    "# from sklearn.ensemble import RandomForestClassifier\n",
    "\n",
    "# import textblob\n",
    "# #!pip install numpy nltk textaugment\n",
    "from textaugment import EDA\n",
    "\n",
    "# # uncomment below line of code to download VADER dictionary and averaged_perceptron_tagger\n",
    "# # nltk.download('averaged_perceptron_tagger')\n",
    "# # nltk.download('vader_lexicon')\n",
    "# # nltk.download('universal_tagset')\n",
    "# # nltk.download('stopwords')\n",
    "# import nltk\n",
    "\n",
    "\n",
    "# from nltk.sentiment.vader import SentimentIntensityAnalyzer\n",
    "# from nltk.corpus import stopwords\n",
    "# from nltk.tokenize import word_tokenize\n",
    "# from nltk.stem import WordNetLemmatizer\n",
    "# from nltk.tag import pos_tag\n",
    "\n",
    "# import gensim\n",
    "# from gensim.models import Word2Vec\n",
    "\n",
    "# # pip install spacy\n",
    "# !python -m spacy download en\n",
    "# import spacy\n",
    "from tqdm import tqdm\n",
    "\n",
    "#import nlpaug.augmenter.word as naw\n",
    "#pip install transformers\n",
    "#pip install nlpaug\n",
    "\n",
    "#pip install -U sentence-transformers"
   ]
  },
  {
   "cell_type": "code",
   "execution_count": 2,
   "id": "fb42b422",
   "metadata": {},
   "outputs": [],
   "source": [
    "# Importation des csv\n",
    "\n",
    "# On crée une instance de la classe Loader\n",
    "loader = data_manager.Loader.Loader('')\n",
    "\n",
    "# On charge le dataset\n",
    "loader.load()\n",
    "\n",
    "# Get the trainset \n",
    "data_train = loader.get_trainset()\n",
    "data_valid = loader.get_validset()\n",
    "test = loader.get_testset()"
   ]
  },
  {
   "cell_type": "code",
   "execution_count": 3,
   "id": "2b97fc53",
   "metadata": {
    "scrolled": true
   },
   "outputs": [
    {
     "data": {
      "text/html": [
       "<div>\n",
       "<style scoped>\n",
       "    .dataframe tbody tr th:only-of-type {\n",
       "        vertical-align: middle;\n",
       "    }\n",
       "\n",
       "    .dataframe tbody tr th {\n",
       "        vertical-align: top;\n",
       "    }\n",
       "\n",
       "    .dataframe thead th {\n",
       "        text-align: right;\n",
       "    }\n",
       "</style>\n",
       "<table border=\"1\" class=\"dataframe\">\n",
       "  <thead>\n",
       "    <tr style=\"text-align: right;\">\n",
       "      <th></th>\n",
       "      <th>2635.json</th>\n",
       "      <th>false</th>\n",
       "      <th>Says the Annies List political group supports third-trimester abortions on demand.</th>\n",
       "      <th>abortion</th>\n",
       "      <th>dwayne-bohac</th>\n",
       "      <th>State representative</th>\n",
       "      <th>Texas</th>\n",
       "      <th>republican</th>\n",
       "      <th>0</th>\n",
       "      <th>1</th>\n",
       "      <th>0.1</th>\n",
       "      <th>0.2</th>\n",
       "      <th>0.3</th>\n",
       "      <th>a mailer</th>\n",
       "    </tr>\n",
       "  </thead>\n",
       "  <tbody>\n",
       "    <tr>\n",
       "      <th>0</th>\n",
       "      <td>10540.json</td>\n",
       "      <td>half-true</td>\n",
       "      <td>When did the decline of coal start? It started...</td>\n",
       "      <td>energy,history,job-accomplishments</td>\n",
       "      <td>scott-surovell</td>\n",
       "      <td>State delegate</td>\n",
       "      <td>Virginia</td>\n",
       "      <td>democrat</td>\n",
       "      <td>0.0</td>\n",
       "      <td>0.0</td>\n",
       "      <td>1.0</td>\n",
       "      <td>1.0</td>\n",
       "      <td>0.0</td>\n",
       "      <td>a floor speech.</td>\n",
       "    </tr>\n",
       "    <tr>\n",
       "      <th>1</th>\n",
       "      <td>324.json</td>\n",
       "      <td>mostly-true</td>\n",
       "      <td>Hillary Clinton agrees with John McCain \"by vo...</td>\n",
       "      <td>foreign-policy</td>\n",
       "      <td>barack-obama</td>\n",
       "      <td>President</td>\n",
       "      <td>Illinois</td>\n",
       "      <td>democrat</td>\n",
       "      <td>70.0</td>\n",
       "      <td>71.0</td>\n",
       "      <td>160.0</td>\n",
       "      <td>163.0</td>\n",
       "      <td>9.0</td>\n",
       "      <td>Denver</td>\n",
       "    </tr>\n",
       "    <tr>\n",
       "      <th>2</th>\n",
       "      <td>1123.json</td>\n",
       "      <td>false</td>\n",
       "      <td>Health care reform legislation is likely to ma...</td>\n",
       "      <td>health-care</td>\n",
       "      <td>blog-posting</td>\n",
       "      <td>NaN</td>\n",
       "      <td>NaN</td>\n",
       "      <td>none</td>\n",
       "      <td>7.0</td>\n",
       "      <td>19.0</td>\n",
       "      <td>3.0</td>\n",
       "      <td>5.0</td>\n",
       "      <td>44.0</td>\n",
       "      <td>a news release</td>\n",
       "    </tr>\n",
       "    <tr>\n",
       "      <th>3</th>\n",
       "      <td>9028.json</td>\n",
       "      <td>half-true</td>\n",
       "      <td>The economic turnaround started at the end of ...</td>\n",
       "      <td>economy,jobs</td>\n",
       "      <td>charlie-crist</td>\n",
       "      <td>NaN</td>\n",
       "      <td>Florida</td>\n",
       "      <td>democrat</td>\n",
       "      <td>15.0</td>\n",
       "      <td>9.0</td>\n",
       "      <td>20.0</td>\n",
       "      <td>19.0</td>\n",
       "      <td>2.0</td>\n",
       "      <td>an interview on CNN</td>\n",
       "    </tr>\n",
       "    <tr>\n",
       "      <th>4</th>\n",
       "      <td>12465.json</td>\n",
       "      <td>true</td>\n",
       "      <td>The Chicago Bears have had more starting quart...</td>\n",
       "      <td>education</td>\n",
       "      <td>robin-vos</td>\n",
       "      <td>Wisconsin Assembly speaker</td>\n",
       "      <td>Wisconsin</td>\n",
       "      <td>republican</td>\n",
       "      <td>0.0</td>\n",
       "      <td>3.0</td>\n",
       "      <td>2.0</td>\n",
       "      <td>5.0</td>\n",
       "      <td>1.0</td>\n",
       "      <td>a an online opinion-piece</td>\n",
       "    </tr>\n",
       "  </tbody>\n",
       "</table>\n",
       "</div>"
      ],
      "text/plain": [
       "    2635.json        false  \\\n",
       "0  10540.json    half-true   \n",
       "1    324.json  mostly-true   \n",
       "2   1123.json        false   \n",
       "3   9028.json    half-true   \n",
       "4  12465.json         true   \n",
       "\n",
       "  Says the Annies List political group supports third-trimester abortions on demand.  \\\n",
       "0  When did the decline of coal start? It started...                                   \n",
       "1  Hillary Clinton agrees with John McCain \"by vo...                                   \n",
       "2  Health care reform legislation is likely to ma...                                   \n",
       "3  The economic turnaround started at the end of ...                                   \n",
       "4  The Chicago Bears have had more starting quart...                                   \n",
       "\n",
       "                             abortion    dwayne-bohac  \\\n",
       "0  energy,history,job-accomplishments  scott-surovell   \n",
       "1                      foreign-policy    barack-obama   \n",
       "2                         health-care    blog-posting   \n",
       "3                        economy,jobs   charlie-crist   \n",
       "4                           education       robin-vos   \n",
       "\n",
       "         State representative      Texas  republican     0     1    0.1  \\\n",
       "0              State delegate   Virginia    democrat   0.0   0.0    1.0   \n",
       "1                   President   Illinois    democrat  70.0  71.0  160.0   \n",
       "2                         NaN        NaN        none   7.0  19.0    3.0   \n",
       "3                         NaN    Florida    democrat  15.0   9.0   20.0   \n",
       "4  Wisconsin Assembly speaker  Wisconsin  republican   0.0   3.0    2.0   \n",
       "\n",
       "     0.2   0.3                   a mailer  \n",
       "0    1.0   0.0            a floor speech.  \n",
       "1  163.0   9.0                     Denver  \n",
       "2    5.0  44.0             a news release  \n",
       "3   19.0   2.0        an interview on CNN  \n",
       "4    5.0   1.0  a an online opinion-piece  "
      ]
     },
     "execution_count": 3,
     "metadata": {},
     "output_type": "execute_result"
    }
   ],
   "source": [
    "data_train.head(5)"
   ]
  },
  {
   "cell_type": "markdown",
   "id": "f4b31fde",
   "metadata": {},
   "source": [
    "# Préparation des données"
   ]
  },
  {
   "cell_type": "markdown",
   "id": "d3142fcb",
   "metadata": {},
   "source": [
    "On remarque que les noms des colonnes récupérés ne sont pas bons, c'est pour cela que nous renommons les colonnes avec les bons nommages."
   ]
  },
  {
   "cell_type": "code",
   "execution_count": 3,
   "id": "596b7fc4",
   "metadata": {},
   "outputs": [],
   "source": [
    "# Instanciation de la classe preprocessor\n",
    "preprocessor = data_manager.Preprocessor.Preprocessor()\n",
    "\n",
    "# On créer une liste de toutes les données afin d'appliquer renommage sur l'ensemble des données (train, valid, test)\n",
    "all_datas = [data_train, data_valid, test]\n",
    "\n",
    "# On renomme les colonnes pour chaque fichier\n",
    "preprocessor.rename_columns(all_datas)\n",
    "\n",
    "# On créer l'ensemble d'apprentissage en concaténant les données d'apprentissage et de validation\n",
    "train = pd.concat([data_train, data_valid])"
   ]
  },
  {
   "cell_type": "markdown",
   "id": "5b1e1a7e",
   "metadata": {},
   "source": [
    "# Analyse et prétraiement du dataset"
   ]
  },
  {
   "cell_type": "code",
   "execution_count": 5,
   "id": "d520ab73",
   "metadata": {},
   "outputs": [
    {
     "name": "stdout",
     "output_type": "stream",
     "text": [
      "Nombre d'observations dans le jeu de données d'apprentissage : 11522\n",
      "Nombre d'attributs dans le jeu de données d'apprentissage : 14\n"
     ]
    }
   ],
   "source": [
    "print(f\"Nombre d'observations dans le jeu de données d'apprentissage : {train.shape[0]}\")\n",
    "print(f\"Nombre d'attributs dans le jeu de données d'apprentissage : {train.shape[1]}\")"
   ]
  },
  {
   "cell_type": "markdown",
   "id": "ff9020af",
   "metadata": {},
   "source": [
    "Descriptions des attributs du jeu de données : \n",
    "\n",
    "- Colonne 1 : L'identifiant de la citation ([ID].json).\n",
    "- Colonne 2 : l'étiquette.\n",
    "- Colonne 3 : la déclaration.\n",
    "- Colonne 4 : le(s) sujet(s).\n",
    "- Colonne 5 : l'orateur (policitien).\n",
    "- Colonne 6 : Poste occupé par le politicien.\n",
    "- Colonne 7 : les informations sur l'état (région où a été prononcé la citation).\n",
    "- Colonne 8 : l'appartenance à un parti.\n",
    "- Colonne 9 à 13 : le nombre total d'antécédents de crédit, y compris le relevé actuel (correspond ici à l’historique de la véracité des faits qu’il a énoncés précédemment)\n",
    "     - 9  : compte des citations à peine vrais.\n",
    "     - 10 : compte des fausses citation.\n",
    "     - 11 : compte des citations à moitié vrais.\n",
    "     - 12 : compte des citations à majorité vrais.\n",
    "     - 13 : compte des gros mensonges.\n",
    "- Colonne 14 : le contexte (lieu/lieu du discours ou de la déclaration)."
   ]
  },
  {
   "cell_type": "code",
   "execution_count": 6,
   "id": "22b5e696",
   "metadata": {},
   "outputs": [
    {
     "name": "stdout",
     "output_type": "stream",
     "text": [
      "Type des différents attributs du jeu de données : \n",
      "id_citation         object\n",
      "labels              object\n",
      "statements          object\n",
      "subjects            object\n",
      "speaker             object\n",
      "function            object\n",
      "state               object\n",
      "affiliations        object\n",
      "c_barely_true      float64\n",
      "c_false            float64\n",
      "c_half_true        float64\n",
      "c_mostly_true      float64\n",
      "c_pants_on_fire    float64\n",
      "context             object\n",
      "dtype: object\n",
      "\n",
      "Nombre d'attributs par type : \n",
      "object     9\n",
      "float64    5\n",
      "dtype: int64\n"
     ]
    }
   ],
   "source": [
    "print(f\"Type des différents attributs du jeu de données : \\n{train.dtypes}\\n\")\n",
    "print(f\"Nombre d'attributs par type : \\n{train.dtypes.value_counts()}\")"
   ]
  },
  {
   "cell_type": "code",
   "execution_count": 7,
   "id": "a1ab00eb",
   "metadata": {},
   "outputs": [
    {
     "name": "stdout",
     "output_type": "stream",
     "text": [
      "Nombre total de sujets uniques : 4191\n",
      "Nombre total de contextes uniques : 4764\n",
      "Nombre total de fonction uniques : 1271\n"
     ]
    }
   ],
   "source": [
    "print(f\"Nombre total de sujets uniques : {len(train.subjects.unique())}\")\n",
    "print(f\"Nombre total de contextes uniques : {len(train.context.unique())}\")\n",
    "print(f\"Nombre total de fonction uniques : {len(train.function.unique())}\")"
   ]
  },
  {
   "cell_type": "markdown",
   "id": "8f55cda4",
   "metadata": {},
   "source": [
    "**Observations :** La majorité des attributs sont de type objet, seul les historiques de crédit sont numériques. Ici l’historique de véracité contenant la majorité des informations liés à l’auteur, nous supprimons les colonnes qui ne nous semble pas nécessaire : \n",
    "- Sujet, contexte : Trop de sujets, fonctions et contextes différents, le contexte peut ici être \"Denver\" comme \"a floor speech\", cela ne ferait que rajouter du bruit à nos données.\n",
    "- Orateur, affiliations : Toutes ces attributs représentent l'orateur, or l'historique de véracité de l'orateur contient déjà la majorité des informations que nous avons besoin."
   ]
  },
  {
   "cell_type": "code",
   "execution_count": 4,
   "id": "c0c82db7",
   "metadata": {},
   "outputs": [],
   "source": [
    "# On drop les colonnes non nécessaires\n",
    "column_to_drop = ['subjects', 'speaker', 'function', 'affiliations', 'context', 'id_citation', 'state']\n",
    "train.drop(column_to_drop, axis=1, inplace=True)\n",
    "test.drop(column_to_drop, axis=1, inplace=True)"
   ]
  },
  {
   "cell_type": "code",
   "execution_count": 10,
   "id": "2d7f8eda",
   "metadata": {},
   "outputs": [
    {
     "name": "stdout",
     "output_type": "stream",
     "text": [
      "Nombre total de données duppliquées dans le jeu de données d'apprentissage : 3\n",
      "Nombre total de valeurs manquantes dans le jeu de données d'apprentissage : 10\n",
      "Attribut contenant des valeurs manquantes : Index(['c_barely_true', 'c_false', 'c_half_true', 'c_mostly_true',\n",
      "       'c_pants_on_fire'],\n",
      "      dtype='object')\n"
     ]
    }
   ],
   "source": [
    "print(f\"Nombre total de données duppliquées dans le jeu de données d'apprentissage : {train.duplicated().sum()}\")\n",
    "print(f\"Nombre total de valeurs manquantes dans le jeu de données d'apprentissage : {train.isna().sum().sum()}\")\n",
    "print(f\"Attribut contenant des valeurs manquantes : {train.columns[train.isna().any()]}\")"
   ]
  },
  {
   "cell_type": "markdown",
   "id": "b6e9f2f0",
   "metadata": {},
   "source": [
    "**Observations :** On remarque qu'il y'a peu de données manquantes et duppliqués, c'est pour cela que nous décidons de les supprimer du dataset."
   ]
  },
  {
   "cell_type": "code",
   "execution_count": 5,
   "id": "38208ceb",
   "metadata": {},
   "outputs": [],
   "source": [
    "# Drop des valeurs manquantes\n",
    "train.dropna(inplace=True)\n",
    "train.reset_index(inplace=True, drop=True)\n",
    "test.dropna(inplace=True)\n",
    "test.reset_index(inplace=True, drop=True)"
   ]
  },
  {
   "cell_type": "code",
   "execution_count": 6,
   "id": "06b1f706",
   "metadata": {},
   "outputs": [
    {
     "data": {
      "image/png": "[encoded data removed]",
      "text/plain": [
       "<Figure size 640x480 with 1 Axes>"
      ]
     },
     "metadata": {},
     "output_type": "display_data"
    }
   ],
   "source": [
    "# Distribution du nombre de labels\n",
    "count_by_label = train['labels'].value_counts()\n",
    "count_by_label.plot(kind=\"bar\")\n",
    "plt.title(\"Distribution of the number of labels\")\n",
    "plt.xlabel(\"Label\")\n",
    "plt.ylabel(\"Count\")\n",
    "plt.show()"
   ]
  },
  {
   "cell_type": "markdown",
   "id": "4249e533",
   "metadata": {},
   "source": [
    "Le jeu de données semblent assez bien balancé sauf pour la classe des gros mensonges (\"pants-fire\") qui est en infériorité par rapport au autres."
   ]
  },
  {
   "cell_type": "code",
   "execution_count": 6,
   "id": "b8bcef27",
   "metadata": {},
   "outputs": [],
   "source": [
    "# application du prétrairement de la cible\n",
    "train = preprocessor.preprocessing_target(train, False)\n",
    "test = preprocessor.preprocessing_target(test, False)"
   ]
  },
  {
   "cell_type": "markdown",
   "id": "4e02da76",
   "metadata": {},
   "source": [
    "La fonction preprocessing_target() de preprocessor encode la cible en valeurs numériques afin qu'elle puisse être prise en compte par le modèle. Aussi, ici l'étiquette de l'observation est comprise dans l'historique de véracité, il faut donc la supprimer afin de prendre seulement en compte les ancienens citations. C'est pour cela qu'on effectue la soustraction de l'étiquette actuelle de l'historique de crédit dans la fonction preprocessing_target(). Aussi cela pourrait éviter au modèle de classiffication de construire une relation entre le nombre de l'étiquette actuelle et l'étiquette en elle-même, ce qui pourrait fausser les résultats."
   ]
  },
  {
   "cell_type": "code",
   "execution_count": 14,
   "id": "9969086d",
   "metadata": {},
   "outputs": [
    {
     "data": {
      "text/html": [
       "<div>\n",
       "<style scoped>\n",
       "    .dataframe tbody tr th:only-of-type {\n",
       "        vertical-align: middle;\n",
       "    }\n",
       "\n",
       "    .dataframe tbody tr th {\n",
       "        vertical-align: top;\n",
       "    }\n",
       "\n",
       "    .dataframe thead th {\n",
       "        text-align: right;\n",
       "    }\n",
       "</style>\n",
       "<table border=\"1\" class=\"dataframe\">\n",
       "  <thead>\n",
       "    <tr style=\"text-align: right;\">\n",
       "      <th></th>\n",
       "      <th>labels</th>\n",
       "      <th>statements</th>\n",
       "      <th>c_barely_true</th>\n",
       "      <th>c_false</th>\n",
       "      <th>c_half_true</th>\n",
       "      <th>c_mostly_true</th>\n",
       "      <th>c_pants_on_fire</th>\n",
       "    </tr>\n",
       "  </thead>\n",
       "  <tbody>\n",
       "    <tr>\n",
       "      <th>0</th>\n",
       "      <td>2</td>\n",
       "      <td>When did the decline of coal start? It started...</td>\n",
       "      <td>0.0</td>\n",
       "      <td>0.0</td>\n",
       "      <td>1.0</td>\n",
       "      <td>1.0</td>\n",
       "      <td>0.0</td>\n",
       "    </tr>\n",
       "    <tr>\n",
       "      <th>1</th>\n",
       "      <td>3</td>\n",
       "      <td>Hillary Clinton agrees with John McCain \"by vo...</td>\n",
       "      <td>70.0</td>\n",
       "      <td>71.0</td>\n",
       "      <td>160.0</td>\n",
       "      <td>163.0</td>\n",
       "      <td>9.0</td>\n",
       "    </tr>\n",
       "    <tr>\n",
       "      <th>2</th>\n",
       "      <td>1</td>\n",
       "      <td>Health care reform legislation is likely to ma...</td>\n",
       "      <td>7.0</td>\n",
       "      <td>19.0</td>\n",
       "      <td>3.0</td>\n",
       "      <td>5.0</td>\n",
       "      <td>44.0</td>\n",
       "    </tr>\n",
       "    <tr>\n",
       "      <th>3</th>\n",
       "      <td>2</td>\n",
       "      <td>The economic turnaround started at the end of ...</td>\n",
       "      <td>15.0</td>\n",
       "      <td>9.0</td>\n",
       "      <td>20.0</td>\n",
       "      <td>19.0</td>\n",
       "      <td>2.0</td>\n",
       "    </tr>\n",
       "    <tr>\n",
       "      <th>4</th>\n",
       "      <td>5</td>\n",
       "      <td>The Chicago Bears have had more starting quart...</td>\n",
       "      <td>0.0</td>\n",
       "      <td>3.0</td>\n",
       "      <td>2.0</td>\n",
       "      <td>5.0</td>\n",
       "      <td>1.0</td>\n",
       "    </tr>\n",
       "    <tr>\n",
       "      <th>...</th>\n",
       "      <td>...</td>\n",
       "      <td>...</td>\n",
       "      <td>...</td>\n",
       "      <td>...</td>\n",
       "      <td>...</td>\n",
       "      <td>...</td>\n",
       "      <td>...</td>\n",
       "    </tr>\n",
       "    <tr>\n",
       "      <th>11515</th>\n",
       "      <td>2</td>\n",
       "      <td>For the first time in more than a decade, impo...</td>\n",
       "      <td>70.0</td>\n",
       "      <td>71.0</td>\n",
       "      <td>160.0</td>\n",
       "      <td>163.0</td>\n",
       "      <td>9.0</td>\n",
       "    </tr>\n",
       "    <tr>\n",
       "      <th>11516</th>\n",
       "      <td>3</td>\n",
       "      <td>Says Donald Trump has bankrupted his companies...</td>\n",
       "      <td>40.0</td>\n",
       "      <td>29.0</td>\n",
       "      <td>69.0</td>\n",
       "      <td>76.0</td>\n",
       "      <td>7.0</td>\n",
       "    </tr>\n",
       "    <tr>\n",
       "      <th>11517</th>\n",
       "      <td>5</td>\n",
       "      <td>John McCain and George Bush have \"absolutely n...</td>\n",
       "      <td>0.0</td>\n",
       "      <td>1.0</td>\n",
       "      <td>0.0</td>\n",
       "      <td>2.0</td>\n",
       "      <td>0.0</td>\n",
       "    </tr>\n",
       "    <tr>\n",
       "      <th>11518</th>\n",
       "      <td>1</td>\n",
       "      <td>A new poll shows 62 percent support the presid...</td>\n",
       "      <td>1.0</td>\n",
       "      <td>4.0</td>\n",
       "      <td>4.0</td>\n",
       "      <td>1.0</td>\n",
       "      <td>0.0</td>\n",
       "    </tr>\n",
       "    <tr>\n",
       "      <th>11519</th>\n",
       "      <td>0</td>\n",
       "      <td>No one claims the report vindicating New Jerse...</td>\n",
       "      <td>9.0</td>\n",
       "      <td>11.0</td>\n",
       "      <td>10.0</td>\n",
       "      <td>7.0</td>\n",
       "      <td>3.0</td>\n",
       "    </tr>\n",
       "  </tbody>\n",
       "</table>\n",
       "<p>11520 rows × 7 columns</p>\n",
       "</div>"
      ],
      "text/plain": [
       "       labels                                         statements  \\\n",
       "0           2  When did the decline of coal start? It started...   \n",
       "1           3  Hillary Clinton agrees with John McCain \"by vo...   \n",
       "2           1  Health care reform legislation is likely to ma...   \n",
       "3           2  The economic turnaround started at the end of ...   \n",
       "4           5  The Chicago Bears have had more starting quart...   \n",
       "...       ...                                                ...   \n",
       "11515       2  For the first time in more than a decade, impo...   \n",
       "11516       3  Says Donald Trump has bankrupted his companies...   \n",
       "11517       5  John McCain and George Bush have \"absolutely n...   \n",
       "11518       1  A new poll shows 62 percent support the presid...   \n",
       "11519       0  No one claims the report vindicating New Jerse...   \n",
       "\n",
       "       c_barely_true  c_false  c_half_true  c_mostly_true  c_pants_on_fire  \n",
       "0                0.0      0.0          1.0            1.0              0.0  \n",
       "1               70.0     71.0        160.0          163.0              9.0  \n",
       "2                7.0     19.0          3.0            5.0             44.0  \n",
       "3               15.0      9.0         20.0           19.0              2.0  \n",
       "4                0.0      3.0          2.0            5.0              1.0  \n",
       "...              ...      ...          ...            ...              ...  \n",
       "11515           70.0     71.0        160.0          163.0              9.0  \n",
       "11516           40.0     29.0         69.0           76.0              7.0  \n",
       "11517            0.0      1.0          0.0            2.0              0.0  \n",
       "11518            1.0      4.0          4.0            1.0              0.0  \n",
       "11519            9.0     11.0         10.0            7.0              3.0  \n",
       "\n",
       "[11520 rows x 7 columns]"
      ]
     },
     "execution_count": 14,
     "metadata": {},
     "output_type": "execute_result"
    }
   ],
   "source": [
    "# jeu de données après prétraitement\n",
    "train"
   ]
  },
  {
   "cell_type": "markdown",
   "id": "ea0ef57c",
   "metadata": {},
   "source": [
    "# Augmentation des données"
   ]
  },
  {
   "cell_type": "markdown",
   "id": "2ddb7d62",
   "metadata": {},
   "source": [
    "## EDA"
   ]
  },
  {
   "cell_type": "code",
   "execution_count": 50,
   "id": "d931a94a",
   "metadata": {},
   "outputs": [
    {
     "name": "stderr",
     "output_type": "stream",
     "text": [
      "Augmentation des données:   0%|          | 0/11520 [00:00<?, ?it/s]Augmentation des données: 100%|██████████| 11520/11520 [00:24<00:00, 469.26it/s]\n"
     ]
    }
   ],
   "source": [
    "eda = EDA()\n",
    "data_augmentation = data_manager.Data_Augmentation.Data_Augmentation()\n",
    "train = data_augmentation.process_augment_eda(eda, train, len(train), alpha=0.2)"
   ]
  },
  {
   "cell_type": "markdown",
   "id": "4d44ce7b",
   "metadata": {},
   "source": [
    "## BERT"
   ]
  },
  {
   "cell_type": "code",
   "execution_count": 7,
   "id": "b6522cf8",
   "metadata": {},
   "outputs": [
    {
     "name": "stderr",
     "output_type": "stream",
     "text": [
      "Augmentation des données: 100%|██████████| 11520/11520 [09:10<00:00, 20.92it/s]\n"
     ]
    }
   ],
   "source": [
    "# On augmente les données (attention peut prendre 10 min avec cuda mais bien plus avec un simple CPU)\n",
    "data_augmentation = data_manager.Data_Augmentation.Data_Augmentation()\n",
    "train = data_augmentation.process_bert_augmentation(train, \"statements\")"
   ]
  },
  {
   "cell_type": "markdown",
   "id": "b5dc46fd",
   "metadata": {},
   "source": [
    "# Extraction des caractéristiques "
   ]
  },
  {
   "cell_type": "code",
   "execution_count": 8,
   "id": "c1440a7c",
   "metadata": {},
   "outputs": [],
   "source": [
    "features_extraction = data_manager.Features_Extraction.Features_extraction()"
   ]
  },
  {
   "cell_type": "code",
   "execution_count": 9,
   "id": "fe950ac8",
   "metadata": {},
   "outputs": [
    {
     "name": "stderr",
     "output_type": "stream",
     "text": [
      "Traiement des citations pour l'analyse sentimentale (Entrainement): 100%|██████████| 23040/23040 [01:36<00:00, 238.60it/s]\n",
      "Traiement des citations pour l'analyse sentimentale (Test): 100%|██████████| 1266/1266 [00:05<00:00, 244.38it/s]\n"
     ]
    }
   ],
   "source": [
    "train.name = 'Entrainement'\n",
    "test.name = 'Test'\n",
    "train = features_extraction.process_extraction(train)\n",
    "test = features_extraction.process_extraction(test)"
   ]
  },
  {
   "cell_type": "code",
   "execution_count": 72,
   "id": "7b8197f3",
   "metadata": {},
   "outputs": [
    {
     "data": {
      "text/html": [
       "<div>\n",
       "<style scoped>\n",
       "    .dataframe tbody tr th:only-of-type {\n",
       "        vertical-align: middle;\n",
       "    }\n",
       "\n",
       "    .dataframe tbody tr th {\n",
       "        vertical-align: top;\n",
       "    }\n",
       "\n",
       "    .dataframe thead th {\n",
       "        text-align: right;\n",
       "    }\n",
       "</style>\n",
       "<table border=\"1\" class=\"dataframe\">\n",
       "  <thead>\n",
       "    <tr style=\"text-align: right;\">\n",
       "      <th></th>\n",
       "      <th>labels</th>\n",
       "      <th>statements</th>\n",
       "      <th>c_barely_true</th>\n",
       "      <th>c_false</th>\n",
       "      <th>c_half_true</th>\n",
       "      <th>c_mostly_true</th>\n",
       "      <th>c_pants_on_fire</th>\n",
       "      <th>number_punctuation</th>\n",
       "      <th>negative_value</th>\n",
       "      <th>neutral_value</th>\n",
       "      <th>...</th>\n",
       "      <th>PART</th>\n",
       "      <th>PRON</th>\n",
       "      <th>PROPN</th>\n",
       "      <th>PUNCT</th>\n",
       "      <th>SCONJ</th>\n",
       "      <th>SYM</th>\n",
       "      <th>VERB</th>\n",
       "      <th>X</th>\n",
       "      <th>PRT</th>\n",
       "      <th>CONJ</th>\n",
       "    </tr>\n",
       "  </thead>\n",
       "  <tbody>\n",
       "    <tr>\n",
       "      <th>0</th>\n",
       "      <td>2</td>\n",
       "      <td>when did the decline of coal start it started ...</td>\n",
       "      <td>0.0</td>\n",
       "      <td>0.0</td>\n",
       "      <td>0.0</td>\n",
       "      <td>1.0</td>\n",
       "      <td>0.0</td>\n",
       "      <td>3</td>\n",
       "      <td>0.000</td>\n",
       "      <td>0.902</td>\n",
       "      <td>...</td>\n",
       "      <td>0.0</td>\n",
       "      <td>1.0</td>\n",
       "      <td>0.0</td>\n",
       "      <td>0.0</td>\n",
       "      <td>0.0</td>\n",
       "      <td>0.0</td>\n",
       "      <td>6.0</td>\n",
       "      <td>0.0</td>\n",
       "      <td>2.0</td>\n",
       "      <td>0.0</td>\n",
       "    </tr>\n",
       "    <tr>\n",
       "      <th>1</th>\n",
       "      <td>3</td>\n",
       "      <td>hillary clinton agrees with john mccain by vot...</td>\n",
       "      <td>70.0</td>\n",
       "      <td>71.0</td>\n",
       "      <td>160.0</td>\n",
       "      <td>162.0</td>\n",
       "      <td>9.0</td>\n",
       "      <td>1</td>\n",
       "      <td>0.107</td>\n",
       "      <td>0.687</td>\n",
       "      <td>...</td>\n",
       "      <td>0.0</td>\n",
       "      <td>0.0</td>\n",
       "      <td>0.0</td>\n",
       "      <td>0.0</td>\n",
       "      <td>0.0</td>\n",
       "      <td>0.0</td>\n",
       "      <td>3.0</td>\n",
       "      <td>0.0</td>\n",
       "      <td>1.0</td>\n",
       "      <td>0.0</td>\n",
       "    </tr>\n",
       "    <tr>\n",
       "      <th>2</th>\n",
       "      <td>1</td>\n",
       "      <td>health care reform legislation is likely to ma...</td>\n",
       "      <td>7.0</td>\n",
       "      <td>18.0</td>\n",
       "      <td>3.0</td>\n",
       "      <td>5.0</td>\n",
       "      <td>44.0</td>\n",
       "      <td>1</td>\n",
       "      <td>0.000</td>\n",
       "      <td>0.606</td>\n",
       "      <td>...</td>\n",
       "      <td>0.0</td>\n",
       "      <td>0.0</td>\n",
       "      <td>0.0</td>\n",
       "      <td>0.0</td>\n",
       "      <td>0.0</td>\n",
       "      <td>0.0</td>\n",
       "      <td>2.0</td>\n",
       "      <td>0.0</td>\n",
       "      <td>1.0</td>\n",
       "      <td>0.0</td>\n",
       "    </tr>\n",
       "    <tr>\n",
       "      <th>3</th>\n",
       "      <td>2</td>\n",
       "      <td>the economic turnaround started at the end of ...</td>\n",
       "      <td>15.0</td>\n",
       "      <td>9.0</td>\n",
       "      <td>19.0</td>\n",
       "      <td>19.0</td>\n",
       "      <td>2.0</td>\n",
       "      <td>1</td>\n",
       "      <td>0.000</td>\n",
       "      <td>1.000</td>\n",
       "      <td>...</td>\n",
       "      <td>0.0</td>\n",
       "      <td>1.0</td>\n",
       "      <td>0.0</td>\n",
       "      <td>0.0</td>\n",
       "      <td>0.0</td>\n",
       "      <td>0.0</td>\n",
       "      <td>1.0</td>\n",
       "      <td>0.0</td>\n",
       "      <td>0.0</td>\n",
       "      <td>0.0</td>\n",
       "    </tr>\n",
       "    <tr>\n",
       "      <th>4</th>\n",
       "      <td>5</td>\n",
       "      <td>the chicago bears have had more starting quart...</td>\n",
       "      <td>0.0</td>\n",
       "      <td>3.0</td>\n",
       "      <td>2.0</td>\n",
       "      <td>5.0</td>\n",
       "      <td>1.0</td>\n",
       "      <td>1</td>\n",
       "      <td>0.120</td>\n",
       "      <td>0.836</td>\n",
       "      <td>...</td>\n",
       "      <td>0.0</td>\n",
       "      <td>0.0</td>\n",
       "      <td>0.0</td>\n",
       "      <td>0.0</td>\n",
       "      <td>0.0</td>\n",
       "      <td>0.0</td>\n",
       "      <td>3.0</td>\n",
       "      <td>0.0</td>\n",
       "      <td>0.0</td>\n",
       "      <td>0.0</td>\n",
       "    </tr>\n",
       "  </tbody>\n",
       "</table>\n",
       "<p>5 rows × 32 columns</p>\n",
       "</div>"
      ],
      "text/plain": [
       "   labels                                         statements  c_barely_true  \\\n",
       "0       2  when did the decline of coal start it started ...            0.0   \n",
       "1       3  hillary clinton agrees with john mccain by vot...           70.0   \n",
       "2       1  health care reform legislation is likely to ma...            7.0   \n",
       "3       2  the economic turnaround started at the end of ...           15.0   \n",
       "4       5  the chicago bears have had more starting quart...            0.0   \n",
       "\n",
       "   c_false  c_half_true  c_mostly_true  c_pants_on_fire  number_punctuation  \\\n",
       "0      0.0          0.0            1.0              0.0                   3   \n",
       "1     71.0        160.0          162.0              9.0                   1   \n",
       "2     18.0          3.0            5.0             44.0                   1   \n",
       "3      9.0         19.0           19.0              2.0                   1   \n",
       "4      3.0          2.0            5.0              1.0                   1   \n",
       "\n",
       "   negative_value  neutral_value  ...  PART  PRON  PROPN  PUNCT  SCONJ  SYM  \\\n",
       "0           0.000          0.902  ...   0.0   1.0    0.0    0.0    0.0  0.0   \n",
       "1           0.107          0.687  ...   0.0   0.0    0.0    0.0    0.0  0.0   \n",
       "2           0.000          0.606  ...   0.0   0.0    0.0    0.0    0.0  0.0   \n",
       "3           0.000          1.000  ...   0.0   1.0    0.0    0.0    0.0  0.0   \n",
       "4           0.120          0.836  ...   0.0   0.0    0.0    0.0    0.0  0.0   \n",
       "\n",
       "   VERB    X  PRT  CONJ  \n",
       "0   6.0  0.0  2.0   0.0  \n",
       "1   3.0  0.0  1.0   0.0  \n",
       "2   2.0  0.0  1.0   0.0  \n",
       "3   1.0  0.0  0.0   0.0  \n",
       "4   3.0  0.0  0.0   0.0  \n",
       "\n",
       "[5 rows x 32 columns]"
      ]
     },
     "execution_count": 72,
     "metadata": {},
     "output_type": "execute_result"
    }
   ],
   "source": [
    "train.head(5)"
   ]
  },
  {
   "cell_type": "markdown",
   "id": "6cc2fa9f",
   "metadata": {},
   "source": [
    "# Text representation"
   ]
  },
  {
   "cell_type": "code",
   "execution_count": 10,
   "id": "e2e67d1a",
   "metadata": {},
   "outputs": [
    {
     "name": "stderr",
     "output_type": "stream",
     "text": [
      "100%|██████████| 23040/23040 [00:59<00:00, 387.36it/s]\n",
      "100%|██████████| 1266/1266 [00:03<00:00, 404.23it/s]\n"
     ]
    }
   ],
   "source": [
    "tqdm.pandas()\n",
    "\n",
    "# On applique le pré-traitement sur les citations (tokenisation + lemmatisation)\n",
    "train['statements'] = train['statements'].progress_apply(preprocessor.preprocessing_text)\n",
    "test['statements'] = test['statements'].progress_apply(preprocessor.preprocessing_text)"
   ]
  },
  {
   "cell_type": "markdown",
   "id": "046ffa20",
   "metadata": {},
   "source": [
    "## Sentence Embedding"
   ]
  },
  {
   "cell_type": "code",
   "execution_count": 13,
   "id": "1d363fb1",
   "metadata": {},
   "outputs": [],
   "source": [
    "# On récupère les embedding des citations pour nos deux ensemble\n",
    "train_sentences_embedding = features_extraction.get_sentence_embedding(train)\n",
    "test_sentences_embedding = features_extraction.get_sentence_embedding(test)\n",
    "\n",
    "# On récupère les features finales d'apprentissage et de test\n",
    "X_train_se = np.hstack((train_sentences_embedding, train[train.columns[2:]].values))\n",
    "X_test_se = np.hstack((test_sentences_embedding, test[train.columns[2:]].values))\n",
    "y_train_se = train['labels']\n",
    "y_test_se = test['labels']"
   ]
  },
  {
   "cell_type": "markdown",
   "id": "2e3b736f",
   "metadata": {},
   "source": [
    "## TF-IDF"
   ]
  },
  {
   "cell_type": "code",
   "execution_count": 14,
   "id": "1241e814",
   "metadata": {},
   "outputs": [],
   "source": [
    "# On vient fit le tfidf extracteur sur l'ensemble d'apprentissage\n",
    "ngram_range = (1,1)\n",
    "features_extraction.fit_tfif(train, ngram_range)\n",
    "\n",
    "# On récupère les représentations tf-idf pour nos deux ensemble\n",
    "train_tfidf_representation = features_extraction.get_tfif_representation(train)\n",
    "test_tfidf_representation = features_extraction.get_tfif_representation(test)\n",
    "\n",
    "# On récupère les features finales d'apprentissage et de test\n",
    "X_train_tf_idf = np.hstack((train_tfidf_representation, train[train.columns[2:]].values))\n",
    "X_test_tf_idf = np.hstack((test_tfidf_representation, test[train.columns[2:]].values))\n",
    "y_train_tf_idf = train['labels']\n",
    "y_test_tf_idf = test['labels']"
   ]
  },
  {
   "cell_type": "markdown",
   "id": "ee790ddb",
   "metadata": {},
   "source": [
    "## Doc2Vec"
   ]
  },
  {
   "cell_type": "code",
   "execution_count": 15,
   "id": "945c679d",
   "metadata": {},
   "outputs": [],
   "source": [
    "# On récupère les représentations doc2vec pour nos deux ensemble\n",
    "train_doc2vec_representation = features_extraction.get_doc2vec_representation(train)\n",
    "test_doc2vec_representation = features_extraction.get_doc2vec_representation(test)\n",
    "\n",
    "# On récupère les features finales d'apprentissage et de test \n",
    "X_train_d2v = np.hstack((np.array(train_doc2vec_representation), train[train.columns[2:]].values))\n",
    "X_test_d2v = np.hstack((np.array(test_doc2vec_representation), test[test.columns[2:]].values))\n",
    "y_train_d2v = train['labels']\n",
    "y_test_d2v = test['labels']"
   ]
  },
  {
   "cell_type": "markdown",
   "id": "f9ed8f97",
   "metadata": {},
   "source": [
    "# Entrainement de nos modèles "
   ]
  },
  {
   "cell_type": "code",
   "execution_count": 16,
   "id": "ca3af7fa",
   "metadata": {},
   "outputs": [],
   "source": [
    "from sklearn.ensemble import RandomForestClassifier\n",
    "from sklearn.neighbors import KNeighborsClassifier\n",
    "from sklearn.svm import LinearSVC\n",
    "from sklearn.tree import DecisionTreeClassifier\n",
    "\n",
    "# modèles\n",
    "rf = RandomForestClassifier(random_state=42, n_jobs=-1)\n",
    "knn = KNeighborsClassifier(n_neighbors=3)\n",
    "dt = DecisionTreeClassifier(random_state=42)\n",
    "svm = LinearSVC(dual=\"auto\", random_state=42, tol=1e-3)\n",
    "models = [knn, svm, dt, rf]\n",
    "str_models = [\"K plus proches voisins (KNN)\", \"Machine à vecteur de support\", \"Arbre de décisions\", \"Forêts aléatoires\"]\n",
    "\n",
    "# représentation\n",
    "all_pairs_Xtrain_y_train = [(X_train_se, y_train_se), (X_train_tf_idf, y_train_tf_idf), (X_train_d2v, y_train_d2v)]\n",
    "all_pairs_Xtest_y_test = [(X_test_se, y_test_se), (X_test_tf_idf, y_test_tf_idf), (X_test_d2v, y_test_d2v)]\n",
    "evaluator = evaluation.Evaluator.Evaluator()"
   ]
  },
  {
   "cell_type": "markdown",
   "id": "2f8ef763",
   "metadata": {},
   "source": [
    "## Sans augmentation de données "
   ]
  },
  {
   "cell_type": "code",
   "execution_count": 70,
   "id": "5d7afa6a",
   "metadata": {},
   "outputs": [
    {
     "name": "stderr",
     "output_type": "stream",
     "text": [
      "Traitement pour les différentes représentation du texte:   0%|          | 0/3 [00:00<?, ?it/s]"
     ]
    },
    {
     "name": "stdout",
     "output_type": "stream",
     "text": [
      "K plus proches voisins (KNN) - (SE): 26.0%\n",
      "Machine à vecteur de support - (SE): 26.0%\n",
      "Arbre de décisions - (SE): 28.999999999999996%\n"
     ]
    },
    {
     "name": "stderr",
     "output_type": "stream",
     "text": [
      "Traitement pour les différentes représentation du texte:  33%|███▎      | 1/3 [02:00<04:00, 120.07s/it]"
     ]
    },
    {
     "name": "stdout",
     "output_type": "stream",
     "text": [
      "Forêts aléatoires - (SE): 27.0%\n",
      "K plus proches voisins (KNN) - (TF-IDF): 26.0%\n",
      "Machine à vecteur de support - (TF-IDF): 25.0%\n",
      "Arbre de décisions - (TF-IDF): 39.0%\n"
     ]
    },
    {
     "name": "stderr",
     "output_type": "stream",
     "text": [
      "Traitement pour les différentes représentation du texte:  67%|██████▋   | 2/3 [03:20<01:36, 96.63s/it] "
     ]
    },
    {
     "name": "stdout",
     "output_type": "stream",
     "text": [
      "Forêts aléatoires - (TF-IDF): 33.0%\n",
      "K plus proches voisins (KNN) - (Doc2Vec): 26.0%\n",
      "Machine à vecteur de support - (Doc2Vec): 27.0%\n",
      "Arbre de décisions - (Doc2Vec): 34.0%\n"
     ]
    },
    {
     "name": "stderr",
     "output_type": "stream",
     "text": [
      "Traitement pour les différentes représentation du texte: 100%|██████████| 3/3 [03:35<00:00, 71.85s/it]"
     ]
    },
    {
     "name": "stdout",
     "output_type": "stream",
     "text": [
      "Forêts aléatoires - (Doc2Vec): 28.999999999999996%\n"
     ]
    },
    {
     "name": "stderr",
     "output_type": "stream",
     "text": [
      "\n"
     ]
    }
   ],
   "source": [
    "all_accuracy_no_data_augment, all_f1_score_no_data_augment, all_recall_score_no_data_augment, all_precision_score_no_data_augment = evaluator.get_metrics(models, str_models, all_pairs_Xtrain_y_train, all_pairs_Xtest_y_test )"
   ]
  },
  {
   "cell_type": "markdown",
   "id": "eae50663",
   "metadata": {},
   "source": [
    "## Avec augmentation de données (EDA) "
   ]
  },
  {
   "cell_type": "code",
   "execution_count": 57,
   "id": "ff49d44d",
   "metadata": {},
   "outputs": [
    {
     "name": "stderr",
     "output_type": "stream",
     "text": [
      "Traitement pour les différentes représentation du texte:   0%|          | 0/3 [00:00<?, ?it/s]"
     ]
    },
    {
     "name": "stdout",
     "output_type": "stream",
     "text": [
      "K plus proches voisins (KNN) - (SE): 27.0%\n",
      "Machine à vecteur de support - (SE): 27.0%\n",
      "Arbre de décisions - (SE): 28.999999999999996%\n"
     ]
    },
    {
     "name": "stderr",
     "output_type": "stream",
     "text": [
      "Traitement pour les différentes représentation du texte:  33%|███▎      | 1/3 [04:02<08:04, 242.30s/it]"
     ]
    },
    {
     "name": "stdout",
     "output_type": "stream",
     "text": [
      "Forêts aléatoires - (SE): 26.0%\n",
      "K plus proches voisins (KNN) - (TF-IDF): 27.0%\n",
      "Machine à vecteur de support - (TF-IDF): 25.0%\n",
      "Arbre de décisions - (TF-IDF): 45.0%\n"
     ]
    },
    {
     "name": "stderr",
     "output_type": "stream",
     "text": [
      "Traitement pour les différentes représentation du texte:  67%|██████▋   | 2/3 [07:09<03:30, 210.10s/it]"
     ]
    },
    {
     "name": "stdout",
     "output_type": "stream",
     "text": [
      "Forêts aléatoires - (TF-IDF): 33.0%\n",
      "K plus proches voisins (KNN) - (Doc2Vec): 27.0%\n",
      "Machine à vecteur de support - (Doc2Vec): 25.0%\n",
      "Arbre de décisions - (Doc2Vec): 36.0%\n"
     ]
    },
    {
     "name": "stderr",
     "output_type": "stream",
     "text": [
      "Traitement pour les différentes représentation du texte: 100%|██████████| 3/3 [07:46<00:00, 155.57s/it]"
     ]
    },
    {
     "name": "stdout",
     "output_type": "stream",
     "text": [
      "Forêts aléatoires - (Doc2Vec): 31.0%\n"
     ]
    },
    {
     "name": "stderr",
     "output_type": "stream",
     "text": [
      "\n"
     ]
    }
   ],
   "source": [
    "all_accuracy_eda, all_f1_score_eda, all_recall_score_eda, all_precision_score_eda = evaluator.get_metrics(models, str_models, all_pairs_Xtrain_y_train, all_pairs_Xtest_y_test )"
   ]
  },
  {
   "cell_type": "markdown",
   "id": "ce119668",
   "metadata": {},
   "source": [
    "## Avec augmentation de données (BERT) "
   ]
  },
  {
   "cell_type": "code",
   "execution_count": 17,
   "id": "5adb214b",
   "metadata": {},
   "outputs": [
    {
     "name": "stderr",
     "output_type": "stream",
     "text": [
      "Traitement pour les différentes représentation du texte:   0%|          | 0/3 [00:00<?, ?it/s]"
     ]
    },
    {
     "name": "stdout",
     "output_type": "stream",
     "text": [
      "K plus proches voisins (KNN) - (SE): 30.0%\n",
      "Machine à vecteur de support - (SE): 28.000000000000004%\n",
      "Arbre de décisions - (SE): 35.0%\n"
     ]
    },
    {
     "name": "stderr",
     "output_type": "stream",
     "text": [
      "Traitement pour les différentes représentation du texte:  33%|███▎      | 1/3 [04:11<08:22, 251.37s/it]"
     ]
    },
    {
     "name": "stdout",
     "output_type": "stream",
     "text": [
      "Forêts aléatoires - (SE): 40.0%\n",
      "K plus proches voisins (KNN) - (TF-IDF): 31.0%\n",
      "Machine à vecteur de support - (TF-IDF): 25.0%\n",
      "Arbre de décisions - (TF-IDF): 39.0%\n"
     ]
    },
    {
     "name": "stderr",
     "output_type": "stream",
     "text": [
      "Traitement pour les différentes représentation du texte:  67%|██████▋   | 2/3 [06:54<03:19, 199.47s/it]"
     ]
    },
    {
     "name": "stdout",
     "output_type": "stream",
     "text": [
      "Forêts aléatoires - (TF-IDF): 43.0%\n",
      "K plus proches voisins (KNN) - (Doc2Vec): 30.0%\n",
      "Machine à vecteur de support - (Doc2Vec): 28.999999999999996%\n",
      "Arbre de décisions - (Doc2Vec): 36.0%\n"
     ]
    },
    {
     "name": "stderr",
     "output_type": "stream",
     "text": [
      "Traitement pour les différentes représentation du texte: 100%|██████████| 3/3 [07:27<00:00, 149.18s/it]"
     ]
    },
    {
     "name": "stdout",
     "output_type": "stream",
     "text": [
      "Forêts aléatoires - (Doc2Vec): 39.0%\n"
     ]
    },
    {
     "name": "stderr",
     "output_type": "stream",
     "text": [
      "\n"
     ]
    }
   ],
   "source": [
    "all_accuracy_bert, all_f1_score_bert, all_recall_score_bert, all_precision_score_bert = evaluator.get_metrics(models, str_models, all_pairs_Xtrain_y_train, all_pairs_Xtest_y_test )"
   ]
  },
  {
   "cell_type": "markdown",
   "id": "507c6b84",
   "metadata": {},
   "source": [
    "## LSTM"
   ]
  },
  {
   "cell_type": "code",
   "execution_count": 11,
   "id": "488add94",
   "metadata": {},
   "outputs": [
    {
     "name": "stdout",
     "output_type": "stream",
     "text": [
      "Epoch 1/10\n",
      "\u001b[1m720/720\u001b[0m \u001b[32m━━━━━━━━━━━━━━━━━━━━\u001b[0m\u001b[37m\u001b[0m \u001b[1m59s\u001b[0m 80ms/step - accuracy: 0.2178 - loss: 2.0365\n",
      "Epoch 2/10\n",
      "\u001b[1m720/720\u001b[0m \u001b[32m━━━━━━━━━━━━━━━━━━━━\u001b[0m\u001b[37m\u001b[0m \u001b[1m60s\u001b[0m 83ms/step - accuracy: 0.3139 - loss: 1.6565\n",
      "Epoch 3/10\n",
      "\u001b[1m720/720\u001b[0m \u001b[32m━━━━━━━━━━━━━━━━━━━━\u001b[0m\u001b[37m\u001b[0m \u001b[1m59s\u001b[0m 82ms/step - accuracy: 0.3651 - loss: 1.5906\n",
      "Epoch 4/10\n",
      "\u001b[1m720/720\u001b[0m \u001b[32m━━━━━━━━━━━━━━━━━━━━\u001b[0m\u001b[37m\u001b[0m \u001b[1m57s\u001b[0m 79ms/step - accuracy: 0.3953 - loss: 1.5108\n",
      "Epoch 5/10\n",
      "\u001b[1m720/720\u001b[0m \u001b[32m━━━━━━━━━━━━━━━━━━━━\u001b[0m\u001b[37m\u001b[0m \u001b[1m57s\u001b[0m 80ms/step - accuracy: 0.4229 - loss: 1.4432\n",
      "Epoch 6/10\n",
      "\u001b[1m720/720\u001b[0m \u001b[32m━━━━━━━━━━━━━━━━━━━━\u001b[0m\u001b[37m\u001b[0m \u001b[1m58s\u001b[0m 80ms/step - accuracy: 0.4533 - loss: 1.3871\n",
      "Epoch 7/10\n",
      "\u001b[1m720/720\u001b[0m \u001b[32m━━━━━━━━━━━━━━━━━━━━\u001b[0m\u001b[37m\u001b[0m \u001b[1m58s\u001b[0m 80ms/step - accuracy: 0.4601 - loss: 1.3457\n",
      "Epoch 8/10\n",
      "\u001b[1m720/720\u001b[0m \u001b[32m━━━━━━━━━━━━━━━━━━━━\u001b[0m\u001b[37m\u001b[0m \u001b[1m58s\u001b[0m 80ms/step - accuracy: 0.4565 - loss: 1.3151\n",
      "Epoch 9/10\n",
      "\u001b[1m720/720\u001b[0m \u001b[32m━━━━━━━━━━━━━━━━━━━━\u001b[0m\u001b[37m\u001b[0m \u001b[1m57s\u001b[0m 80ms/step - accuracy: 0.4650 - loss: 1.2853\n",
      "Epoch 10/10\n",
      "\u001b[1m720/720\u001b[0m \u001b[32m━━━━━━━━━━━━━━━━━━━━\u001b[0m\u001b[37m\u001b[0m \u001b[1m57s\u001b[0m 80ms/step - accuracy: 0.4621 - loss: 1.2796\n",
      "Test loss: 1.3144\n",
      "Test accuracy: 44.15%\n"
     ]
    }
   ],
   "source": [
    "train.name = 'Entrainement'\n",
    "test.name = 'Test'\n",
    "\n",
    "# on fit le tokenizer de keras\n",
    "preprocessor.fit_keras_tokenizer(train, \"statements\")\n",
    "\n",
    "# on récupére les séquences de text paddées\n",
    "train_text_features = preprocessor.get_padded_senquences(train, \"statements\")\n",
    "test_text_features = preprocessor.get_padded_senquences(test, \"statements\")\n",
    "\n",
    "# on sépare les caractéristiques (text, numériques)\n",
    "train_non_text_features = np.array(train[train.columns[2:]]) \n",
    "test_non_text_features = np.array(test[test.columns[2:]])\n",
    "\n",
    "# paramètres du LSTM\n",
    "max_sequence_length = preprocessor.get_max_senquence_length()\n",
    "embedding_dim = 100\n",
    "lstm_units = 128\n",
    "nb_classes = len(np.unique(train[\"labels\"]))\n",
    "non_text_dim = train_non_text_features.shape[1]\n",
    "\n",
    "# Entrainement et test du modèle\n",
    "lstm = classifier.LSTMDenseModel.LSTMDenseModel(lstm_units, embedding_dim, non_text_dim,  max_sequence_length, nb_classes)\n",
    "lstm.compile_model()\n",
    "lstm.train_model(train_text_features , train_non_text_features, np.array(train[\"labels\"]), epochs=10, batch_size=32)\n",
    "lstm.test_model(test_text_features, test_non_text_features, np.array(test[\"labels\"]))"
   ]
  },
  {
   "cell_type": "markdown",
   "id": "63786319",
   "metadata": {},
   "source": [
    "# Test out of distribution (binary class)"
   ]
  },
  {
   "cell_type": "code",
   "execution_count": null,
   "id": "a590126a",
   "metadata": {},
   "outputs": [],
   "source": [
    "data_true = pd.DataFrame({\"statements\":true_facts})\n",
    "data_true['labels']=1\n",
    "data_false = pd.DataFrame({\"statements\":false_facts})\n",
    "data_false['labels']=0\n",
    "test_out_of_distribution = pd.concat([data_true, data_false]).reset_index(drop=True)\n",
    "\n",
    "# On ne garde toutes les colones sauf ceux des crédits\n",
    "train_ood = train.drop(train.columns[2:7], axis=1, inplace=True)\n",
    "train_ood = preprocessor.tranform_into_binary_classification(train_ood)\n",
    "\n",
    "# On récupère les caractéristiques liés au test\n",
    "test_out_of_distribution.name = \"Test (Out of Distribution)\"\n",
    "test_out_of_distribution = features_extraction.process_extraction(test_out_of_distribution)\n",
    "test_out_of_distribution['statements'] = test_out_of_distribution['statements'].progress_apply(preprocessor.preprocessing_text)"
   ]
  },
  {
   "cell_type": "code",
   "execution_count": 21,
   "id": "afb785f0",
   "metadata": {},
   "outputs": [
    {
     "data": {
      "text/html": [
       "<div>\n",
       "<style scoped>\n",
       "    .dataframe tbody tr th:only-of-type {\n",
       "        vertical-align: middle;\n",
       "    }\n",
       "\n",
       "    .dataframe tbody tr th {\n",
       "        vertical-align: top;\n",
       "    }\n",
       "\n",
       "    .dataframe thead th {\n",
       "        text-align: right;\n",
       "    }\n",
       "</style>\n",
       "<table border=\"1\" class=\"dataframe\">\n",
       "  <thead>\n",
       "    <tr style=\"text-align: right;\">\n",
       "      <th></th>\n",
       "      <th>statements</th>\n",
       "      <th>labels</th>\n",
       "    </tr>\n",
       "  </thead>\n",
       "  <tbody>\n",
       "    <tr>\n",
       "      <th>0</th>\n",
       "      <td>Water boils at 100 degrees Celsius (212 degree...</td>\n",
       "      <td>1</td>\n",
       "    </tr>\n",
       "    <tr>\n",
       "      <th>1</th>\n",
       "      <td>The speed of light in a vacuum is approximatel...</td>\n",
       "      <td>1</td>\n",
       "    </tr>\n",
       "    <tr>\n",
       "      <th>2</th>\n",
       "      <td>Gravity is the force that attracts objects wit...</td>\n",
       "      <td>1</td>\n",
       "    </tr>\n",
       "    <tr>\n",
       "      <th>3</th>\n",
       "      <td>The Earth orbits the Sun once every 365.25 day...</td>\n",
       "      <td>1</td>\n",
       "    </tr>\n",
       "    <tr>\n",
       "      <th>4</th>\n",
       "      <td>Oxygen is essential for human life, and we inh...</td>\n",
       "      <td>1</td>\n",
       "    </tr>\n",
       "    <tr>\n",
       "      <th>...</th>\n",
       "      <td>...</td>\n",
       "      <td>...</td>\n",
       "    </tr>\n",
       "    <tr>\n",
       "      <th>203</th>\n",
       "      <td>The Great Wall of China is visible from the moon.</td>\n",
       "      <td>0</td>\n",
       "    </tr>\n",
       "    <tr>\n",
       "      <th>204</th>\n",
       "      <td>Thomas Edison invented the light bulb.</td>\n",
       "      <td>0</td>\n",
       "    </tr>\n",
       "    <tr>\n",
       "      <th>205</th>\n",
       "      <td>Napoleon Bonaparte was short.</td>\n",
       "      <td>0</td>\n",
       "    </tr>\n",
       "    <tr>\n",
       "      <th>206</th>\n",
       "      <td>Chameleons change color to blend in with their...</td>\n",
       "      <td>0</td>\n",
       "    </tr>\n",
       "    <tr>\n",
       "      <th>207</th>\n",
       "      <td>You lose most of your body heat through your h...</td>\n",
       "      <td>0</td>\n",
       "    </tr>\n",
       "  </tbody>\n",
       "</table>\n",
       "<p>208 rows × 2 columns</p>\n",
       "</div>"
      ],
      "text/plain": [
       "                                            statements  labels\n",
       "0    Water boils at 100 degrees Celsius (212 degree...       1\n",
       "1    The speed of light in a vacuum is approximatel...       1\n",
       "2    Gravity is the force that attracts objects wit...       1\n",
       "3    The Earth orbits the Sun once every 365.25 day...       1\n",
       "4    Oxygen is essential for human life, and we inh...       1\n",
       "..                                                 ...     ...\n",
       "203  The Great Wall of China is visible from the moon.       0\n",
       "204             Thomas Edison invented the light bulb.       0\n",
       "205                      Napoleon Bonaparte was short.       0\n",
       "206  Chameleons change color to blend in with their...       0\n",
       "207  You lose most of your body heat through your h...       0\n",
       "\n",
       "[208 rows x 2 columns]"
      ]
     },
     "execution_count": 21,
     "metadata": {},
     "output_type": "execute_result"
    }
   ],
   "source": [
    "test_out_of_distribution"
   ]
  },
  {
   "cell_type": "code",
   "execution_count": 15,
   "id": "1d338b34",
   "metadata": {},
   "outputs": [],
   "source": [
    "true_facts = [\n",
    "    \"Water boils at 100 degrees Celsius (212 degrees Fahrenheit) at sea level.\",\n",
    "    \"The speed of light in a vacuum is approximately 299,792 kilometers per second (about 186,282 miles per second).\",\n",
    "    \"Gravity is the force that attracts objects with mass toward each other.\",\n",
    "    \"The Earth orbits the Sun once every 365.25 days, causing the change of seasons.\",\n",
    "    \"Oxygen is essential for human life, and we inhale it to survive.\",\n",
    "    \"DNA is the molecule that contains the genetic instructions for the development, functioning, growth, and reproduction of all known organisms.\",\n",
    "    \"The human body is made up of approximately 60% water.\",\n",
    "    \"Photosynthesis is the process by which green plants and some other organisms use sunlight to synthesize foods with carbon dioxide and water.\",\n",
    "    \"The boiling point of water decreases as altitude increases.\",\n",
    "    \"E=mc^2, which means energy (E) is equal to mass (m) times the speed of light (c) squared.\",\n",
    "    \"The sun is a star located at the center of the Solar System, and it accounts for about 99.86% of the Solar System's mass.\",\n",
    "    \"The United States Declaration of Independence was adopted on July 4, 1776.\",\n",
    "    \"The Great Wall of China is approximately 13,170 miles (21,196 kilometers) long.\",\n",
    "    \"The human brain consists of about 86 billion neurons.\",\n",
    "    \"The atomic number of an element is equal to the number of protons in the nucleus of its atom.\",\n",
    "    \"Water expands when it freezes, which is why ice floats.\",\n",
    "    \"The Amazon Rainforest is the largest tropical rainforest in the world.\",\n",
    "    \"The Periodic Table of Elements organizes elements by their atomic number, electron configuration, and recurring chemical properties.\",\n",
    "    \"A light-year is the distance that light travels in one year, approximately 9.461 trillion kilometers (5.879 trillion miles).\",\n",
    "    \"The Mariana Trench is the deepest known part of the Earth's oceans, reaching a depth of about 36,070 feet (10,994 meters).\",\n",
    "    \"Hydrogen is the most abundant chemical substance in the universe.\",\n",
    "    \"The human heart beats about 100,000 times a day.\",\n",
    "    \"The Mona Lisa is a famous portrait painting by Leonardo da Vinci.\",\n",
    "    \"The North Star, or Polaris, is approximately 434 light-years away from Earth.\",\n",
    "    \"The ozone layer in the Earth's stratosphere absorbs most of the Sun's ultraviolet radiation.\",\n",
    "    \"The Statue of Liberty was a gift from France to the United States and was dedicated on October 28, 1886.\",\n",
    "    \"The speed of sound varies depending on the medium through which it travels, but it is approximately 343 meters per second (1,125 feet per second) in dry air at 20 degrees Celsius (68 degrees Fahrenheit).\",\n",
    "    \"The Earth's atmosphere is composed of approximately 78% nitrogen, 21% oxygen, and trace amounts of other gases.\",\n",
    "    \"The Empire State Building in New York City was completed in 1931 and was the tallest building in the world until 1970.\",\n",
    "    \"Albert Einstein developed the theory of general relativity, which describes gravity as a geometric property of space and time.\",\n",
    "    \"Mount Everest is the highest mountain above sea level, with a peak reaching 29,032 feet (8,849 meters).\",\n",
    "    \"The human body has 206 bones.\",\n",
    "    \"The primary colors of light are red, green, and blue.\",\n",
    "    \"The Declaration of Human Rights was adopted by the United Nations General Assembly on December 10, 1948.\",\n",
    "    \"The Great Pyramid of Giza is the oldest and largest of the three pyramids in the Giza pyramid complex in Egypt.\",\n",
    "    \"The speed of a falling object increases by approximately 9.8 meters per second squared (32 feet per second squared) due to gravity.\",\n",
    "    \"The Eiffel Tower in Paris, France, was completed in 1889 and was initially criticized by some of France's leading artists and intellectuals for its design.\",\n",
    "    \"The human eye can distinguish about 10 million different colors.\",\n",
    "    \"The longest river in the world is the Nile River in Africa, with a length of approximately 4,135 miles (6,650 kilometers).\",\n",
    "    \"The Seven Wonders of the Ancient World are the Great Pyramid of Giza, the Hanging Gardens of Babylon, the Statue of Zeus at Olympia, the Temple of Artemis at Ephesus, the Mausoleum at Halicarnassus, the Colossus of Rhodes, and the Lighthouse of Alexandria.\",\n",
    "    \"Sound is a mechanical wave that travels through a medium, such as air, water, or solids.\",\n",
    "    \"The human digestive system consists of the gastrointestinal tract and other accessory organs that aid in digestion.\",\n",
    "    \"The Berlin Wall, which divided East and West Berlin, was constructed by the German Democratic Republic (East Germany) starting on August 13, 1961, and was demolished in 1989.\",\n",
    "    \"The Golden Gate Bridge in San Francisco, California, spans the Golden Gate Strait and was completed in 1937.\",\n",
    "    \"The Celsius scale is based on the boiling and freezing points of water, with 0 degrees Celsius as the freezing point and 100 degrees Celsius as the boiling point at standard atmospheric pressure.\",\n",
    "    \"The theory of evolution by natural selection, proposed by Charles Darwin, explains how species evolve over time through the process of natural selection.\",\n",
    "    \"The International Space Station (ISS) orbits the Earth at an average altitude of approximately 420 kilometers (261 miles).\",\n",
    "    \"The United Nations is an international organization founded in 1945 to promote peace, security, and cooperation among member states.\",\n",
    "    \"The moon is Earth's only natural satellite and is about 1/4 the size of Earth.\",\n",
    "    \"The Richter scale is a logarithmic scale used to measure the magnitude of earthquakes.\",\n",
    "    \"The Panama Canal connects the Atlantic Ocean to the Pacific Ocean and was completed in 1914.\",\n",
    "    \"The human respiratory system consists of the lungs and other organs that facilitate breathing and gas exchange.\",\n",
    "    \"The human skin is the body's largest organ and serves as a protective barrier against pathogens and other harmful substances.\",\n",
    "    \"The Taj Mahal is a white marble mausoleum built in the 17th century by the Mughal emperor Shah Jahan in memory of his wife Mumtaz Mahal.\",\n",
    "    \"The first successful airplane flight was conducted by the Wright brothers, Orville and Wilbur Wright, on December 17, 1903, near Kitty Hawk, North Carolina.\",\n",
    "    \"The Pacific Ocean is the largest and deepest of Earth's oceanic divisions, covering an area of approximately 63 million square miles (165 million square kilometers).\",\n",
    "    \"The human immune system protects the body from infection and disease.\",\n",
    "    \"The Wright brothers' aircraft, the Wright Flyer, flew a distance of 120 feet (36 meters) in 12 seconds during their first powered flight.\",\n",
    "    \"The human liver is responsible for detoxification, protein synthesis, and the production of biochemicals necessary for digestion.\",\n",
    "    \"The Hubble Space Telescope was launched into orbit by the Space Shuttle Discovery on April 24, 1990, and has provided astronomers with incredible images and data about the universe.\",\n",
    "    \"The Sahara Desert is the largest hot desert in the world, covering an area of approximately 3.6 million square miles (9.2 million square kilometers).\",\n",
    "    \"The United States Constitution is the supreme law of the United States and was ratified on September 17, 1787.\",\n",
    "    \"The human reproductive system includes organs such as the ovaries, testes, uterus, and penis, which are responsible for producing and delivering gametes (sperm and eggs) for reproduction.\",\n",
    "    \"The first successful human heart transplant was performed by Dr. Christiaan Barnard in South Africa on December 3, 1967.\",\n",
    "    \"The Gutenberg Bible, printed by Johannes Gutenberg in the 15th century, is one of the earliest major books printed using movable metal type in Europe.\",\n",
    "    \"The South Pole is located on the continent of Antarctica and experiences extreme cold temperatures.\",\n",
    "    \"The Mona Lisa is housed in the Louvre Museum in Paris, France, and is one of the most famous and valuable works of art in the world.\",\n",
    "    \"The human skeletal system provides structure and support to the body and protects internal organs.\",\n",
    "    \"The Mediterranean Sea is bordered by Europe, Asia, and Africa and is connected to the Atlantic Ocean through the Strait of Gibraltar.\",\n",
    "    \"The human nervous system consists of the central nervous system (brain and spinal cord) and the peripheral nervous system (nerves that connect the central nervous system to the rest of the body).\",\n",
    "    \"The Gulf Stream is a powerful warm ocean current that originates in the Gulf of Mexico and flows into the Atlantic Ocean, influencing weather patterns and climate along the east coast of North America and Europe.\",\n",
    "    \"The human musculoskeletal system is composed of bones, muscles, cartilage, tendons, ligaments, and other connective tissues that enable movement and provide support to the body.\",\n",
    "    \"The Leaning Tower of Pisa in Italy began tilting during its construction due to unstable soil, and efforts to stabilize it have prevented further tilting.\",\n",
    "    \"The Colosseum, also known as the Flavian Amphitheater, is an ancient Roman amphitheater located in the center of Rome, Italy, and is the largest amphitheater ever built.\",\n",
    "    \"The human endocrine system consists of glands that secrete hormones into the bloodstream to regulate various bodily functions, such as metabolism, growth, and reproduction.\",\n",
    "    \"The ozone layer is located in the Earth's stratosphere and plays a crucial role in protecting life on Earth by absorbing the majority of the Sun's ultraviolet radiation.\",\n",
    "    \"The Louvre Museum in Paris, France, is the world's largest art museum and a historic monument in Paris.\",\n",
    "    \"The International Date Line is an imaginary line located at about 180 degrees east or west of the Greenwich Meridian and serves as the boundary between one calendar day and the next.\",\n",
    "    \"The human excretory system removes waste products from the body through organs such as the kidneys, liver, and skin.\",\n",
    "    \"The Venus flytrap is a carnivorous plant native to subtropical wetlands on the East Coast of the United States.\",\n",
    "    \"The English language is the third most spoken language in the world, with over 1.1 billion speakers worldwide.\",\n",
    "    \"The human circulatory system consists of the heart, blood vessels, and blood, which transport nutrients, oxygen, hormones, and waste products throughout the body.\",\n",
    "    \"The Golden Ratio, often represented by the Greek letter phi (φ), is a mathematical ratio that is commonly found in nature and is considered aesthetically pleasing in art and architecture.\",\n",
    "    \"The Milky Way is a barred spiral galaxy that contains our Solar System and is home to billions of stars, including our Sun.\",\n",
    "    \"The Canadian flag, also known as the Maple Leaf, was adopted on February 15, 1965, and features a red maple leaf with 11 points on a white background, with red borders on the sides.\",\n",
    "    \"The Himalayas, located in Asia, are the highest mountain range in the world and include Mount Everest, the highest peak on Earth.\",\n",
    "    \"The human urinary system consists of organs such as the kidneys, ureters, bladder, and urethra, which filter and eliminate waste products from the blood as urine.\",\n",
    "    \"The Aurora Borealis, also known as the Northern Lights, is a natural light display that occurs in the polar regions and is caused by the interaction between charged particles from the Sun and the Earth's atmosphere.\",\n",
    "    \"The Mona Lisa has been exhibited in various locations throughout history, including the Palace of Versailles, the Uffizi Gallery in Florence, and the Tokyo National Museum.\",\n",
    "    \"The World Wide Web was invented by Sir Tim Berners-Lee in 1989 while he was working at CERN, the European Organization for Nuclear Research.\",\n",
    "    \"The human integumentary system consists of the skin, hair, nails, and glands, and serves as a protective barrier against pathogens, UV radiation, and dehydration.\",\n",
    "    \"The Great Barrier Reef is the world's largest coral reef system, located off the coast of Queensland, Australia.\",\n",
    "    \"The Sydney Opera House in Australia is a UNESCO World Heritage Site and one of the most distinctive and famous buildings of the 20th century.\",\n",
    "    \"The human lymphatic system is a network of vessels and organs, including lymph nodes, spleen, and thymus, that helps maintain fluid balance and fight infection.\",\n",
    "    \"The World Health Organization (WHO) is a specialized agency of the United Nations responsible for international public health.\",\n",
    "    \"The Great Wall of China was built over several centuries and stretches approximately 13,170 miles (21,196 kilometers) across northern China.\",\n",
    "    \"The human reproductive system undergoes puberty during adolescence, leading to the development of secondary sexual characteristics and the ability to reproduce.\",\n",
    "    \"The concept of time dilation, proposed by Albert Einstein's theory of relativity, suggests that time passes more slowly for an observer moving at high speeds relative to another observer.\",\n",
    "    \"The human endocrine system regulates bodily functions through the secretion of hormones by glands such as the pituitary, thyroid, and adrenal glands.\",\n",
    "    \"The Berlin Wall was a symbol of the division between East and West during the Cold War, and its fall on November 9, 1989, symbolized the end of the Cold War era.\",\n",
    "    \"The human reproductive system produces gametes (sperm and eggs) through a process called meiosis, which results in genetic variation in offspring.\",\n",
    "    \"The human digestive system breaks down food into nutrients that can be absorbed by the body and eliminates waste products through the process of digestion.\",\n",
    "    \"The Sydney Harbour Bridge in Australia is one of the tallest steel arch bridges in the world and connects the Sydney central business district with the North Shore.\",\n",
    "    \"The human cardiovascular system is responsible for circulating blood and transporting oxygen, nutrients, hormones, and waste products throughout the body.\",\n",
    "    ]\n"
   ]
  },
  {
   "cell_type": "code",
   "execution_count": 16,
   "id": "9a9c3063",
   "metadata": {},
   "outputs": [],
   "source": [
    "false_facts = [\n",
    "    \"Humans only use 10% of their brains.\",\n",
    "    \"Chameleons change color to blend in with their surroundings.\",\n",
    "    \"Eating carrots improves night vision.\",\n",
    "    \"Bulls get angry when they see the color red.\",\n",
    "    \"Bats are blind.\",\n",
    "    \"Goldfish have a memory of only a few seconds.\",\n",
    "    \"Cracking your knuckles causes arthritis.\",\n",
    "    \"A penny dropped from the Empire State Building could kill someone.\",\n",
    "    \"Shaving makes hair grow back thicker and darker.\",\n",
    "    \"Swallowed chewing gum stays in your stomach for seven years.\",\n",
    "    \"Bulls are attracted to the color red.\",\n",
    "    \"Lightning never strikes the same place twice.\",\n",
    "    \"Napoleon Bonaparte was extremely short.\",\n",
    "    \"A duck's quack doesn't echo.\",\n",
    "    \"Hair and nails continue to grow after death.\",\n",
    "    \"You can see the Great Wall of China from space.\",\n",
    "    \"Humans have only five senses.\",\n",
    "    \"The Great Wall of China is the only man-made structure visible from space.\",\n",
    "    \"Fingernails and hair continue to grow after death.\",\n",
    "    \"Dogs only see in black and white.\",\n",
    "    \"If you touch a baby bird, its mother will abandon it.\",\n",
    "    \"Albert Einstein failed math in school.\",\n",
    "    \"Ostriches bury their heads in the sand when scared.\",\n",
    "    \"Bananas grow on trees.\",\n",
    "    \"A penny dropped from the top of the Empire State Building could kill a pedestrian.\",\n",
    "    \"Einstein was a poor student.\",\n",
    "    \"Sharks don't get cancer.\",\n",
    "    \"Birds will die if they eat uncooked rice.\",\n",
    "    \"You can balance an egg on its end during the equinox.\",\n",
    "    \"Humans evolved from chimpanzees.\",\n",
    "    \"Bulls hate the color red.\",\n",
    "    \"The Great Wall of China can be seen from the moon.\",\n",
    "    \"You can't fold a piece of paper more than seven times.\",\n",
    "    \"Chewing gum takes seven years to digest if swallowed.\",\n",
    "    \"Dogs only see in shades of gray.\",\n",
    "    \"Humans only have five senses.\",\n",
    "    \"Camels store water in their humps.\",\n",
    "    \"All deserts are hot.\",\n",
    "    \"You can't tickle yourself.\",\n",
    "    \"The Earth is flat.\",\n",
    "    \"Mount Everest is the tallest mountain in the world.\",\n",
    "    \"Water drains counterclockwise in the Southern Hemisphere and clockwise in the Northern Hemisphere.\",\n",
    "    \"The Great Wall of China was built to keep out Mongol invaders.\",\n",
    "    \"Glass is a slow-moving liquid.\",\n",
    "    \"Vikings wore horned helmets.\",\n",
    "    \"Napoleon Bonaparte was short.\",\n",
    "    \"Chickens can live without their heads.\",\n",
    "    \"Humans swallow an average of eight spiders a year while sleeping.\",\n",
    "    \"The sun is yellow.\",\n",
    "    \"Bananas grow on trees.\",\n",
    "    \"Bulls get angry when they see red.\",\n",
    "    \"Sharks don't get cancer.\",\n",
    "    \"The Great Wall of China is visible from the moon.\",\n",
    "    \"Thomas Edison invented the light bulb.\",\n",
    "    \"Napoleon Bonaparte was short.\",\n",
    "    \"Chameleons change color to blend in with their surroundings.\",\n",
    "    \"You lose most of your body heat through your head.\",\n",
    "    \"A penny dropped from the Empire State Building could kill someone.\",\n",
    "    \"Bulls are attracted to the color red.\",\n",
    "    \"Cracking your knuckles causes arthritis.\",\n",
    "    \"A duck's quack doesn't echo.\",\n",
    "    \"Hair and nails continue to grow after death.\",\n",
    "    \"Swallowed chewing gum stays in your stomach for seven years.\",\n",
    "    \"You can see the Great Wall of China from space.\",\n",
    "    \"Humans have only five senses.\",\n",
    "    \"The Great Wall of China is the only man-made structure visible from space.\",\n",
    "    \"Fingernails and hair continue to grow after death.\",\n",
    "    \"Dogs only see in black and white.\",\n",
    "    \"If you touch a baby bird, its mother will abandon it.\",\n",
    "    \"Albert Einstein failed math in school.\",\n",
    "    \"Ostriches bury their heads in the sand when scared.\",\n",
    "    \"Bananas grow on trees.\",\n",
    "    \"Einstein was a poor student.\",\n",
    "    \"Sharks don't get cancer.\",\n",
    "    \"Birds will die if they eat uncooked rice.\",\n",
    "    \"You can balance an egg on its end during the equinox.\",\n",
    "    \"Humans evolved from chimpanzees.\",\n",
    "    \"Bulls hate the color red.\",\n",
    "    \"The Great Wall of China can be seen from the moon.\",\n",
    "    \"You can't fold a piece of paper more than seven times.\",\n",
    "    \"Chewing gum takes seven years to digest if swallowed.\",\n",
    "    \"Dogs only see in shades of gray.\",\n",
    "    \"Humans only have five senses.\",\n",
    "    \"Camels store water in their humps.\",\n",
    "    \"All deserts are hot.\",\n",
    "    \"You can't tickle yourself.\",\n",
    "    \"The Earth is flat.\",\n",
    "    \"Mount Everest is the tallest mountain in the world.\",\n",
    "    \"Water drains counterclockwise in the Southern Hemisphere and clockwise in the Northern Hemisphere.\",\n",
    "    \"The Great Wall of China was built to keep out Mongol invaders.\",\n",
    "    \"Glass is a slow-moving liquid.\",\n",
    "    \"Vikings wore horned helmets.\",\n",
    "    \"Napoleon Bonaparte was short.\",\n",
    "    \"Chickens can live without their heads.\",\n",
    "    \"Humans swallow an average of eight spiders a year while sleeping.\",\n",
    "    \"The sun is yellow.\",\n",
    "    \"Bananas grow on trees.\",\n",
    "    \"Bulls get angry when they see red.\",\n",
    "    \"Sharks don't get cancer.\",\n",
    "    \"The Great Wall of China is visible from the moon.\",\n",
    "    \"Thomas Edison invented the light bulb.\",\n",
    "    \"Napoleon Bonaparte was short.\",\n",
    "    \"Chameleons change color to blend in with their surroundings.\",\n",
    "    \"You lose most of your body heat through your head.\"\n",
    "]"
   ]
  },
  {
   "cell_type": "code",
   "execution_count": 20,
   "id": "8af53936",
   "metadata": {},
   "outputs": [],
   "source": [
    "test_ood_sentence_embedding = features_extraction.get_sentence_embedding(test_out_of_distribution)\n",
    "X_test_ood_se = np.hstack((test_ood_sentence_embedding, test_out_of_distribution[train.columns[2:]].values))\n",
    "y_test_ood_se = test_out_of_distribution['labels']"
   ]
  },
  {
   "cell_type": "code",
   "execution_count": 37,
   "id": "24d50e4e",
   "metadata": {},
   "outputs": [],
   "source": [
    "test_ood_tf_idf_representation = features_extraction.get_tfif_representation(test_out_of_distribution)\n",
    "X_test_ood_tf_idf = np.hstack((test_ood_tf_idf_representation, test_out_of_distribution[test_out_of_distribution.columns[2:]].values))\n",
    "y_test_ood_tf_idf = test_out_of_distribution['labels']"
   ]
  },
  {
   "cell_type": "code",
   "execution_count": 46,
   "id": "dfad4a67",
   "metadata": {},
   "outputs": [],
   "source": [
    "# On récupère les représentations doc2vec pour nos deux ensemble\n",
    "test_ood_doc2vec_representation = features_extraction.get_doc2vec_representation(test_out_of_distribution)\n",
    "\n",
    "# On récupère les features finales d'apprentissage et de test \n",
    "X_test_ood_d2v = np.hstack((np.array(test_ood_doc2vec_representation), test_out_of_distribution[test_out_of_distribution.columns[2:]].values))\n",
    "y_test_ood_d2v = test_out_of_distribution['labels']"
   ]
  }
 ],
 "metadata": {
  "kernelspec": {
   "display_name": "Python 3 (ipykernel)",
   "language": "python",
   "name": "python3"
  },
  "language_info": {
   "codemirror_mode": {
    "name": "ipython",
    "version": 3
   },
   "file_extension": ".py",
   "mimetype": "text/x-python",
   "name": "python",
   "nbconvert_exporter": "python",
   "pygments_lexer": "ipython3",
   "version": "3.9.18"
  }
 },
 "nbformat": 4,
 "nbformat_minor": 5
}
